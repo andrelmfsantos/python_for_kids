{
 "cells": [
  {
   "cell_type": "code",
   "execution_count": 23,
   "metadata": {
    "collapsed": true
   },
   "outputs": [
    {
     "name": "stdout",
     "output_type": "stream",
     "text": [
      "Enter name for player1: Andrey\n",
      "Enter four (4) items to put into your backpack.\n",
      "Item name: basketball\n",
      "Item name: skate\n",
      "Item name: bike\n",
      "Item name: game\n",
      "Enter name for player2: André\n",
      "Enter four (4) items to put into your backpack.\n",
      "Item name: Python\n",
      "Item name: Statistic\n",
      "Item name: PhD\n",
      "Item name: House\n"
     ]
    }
   ],
   "source": [
    "# getting information about the players\n",
    "# storingthe information about players\n",
    "\n",
    "\n",
    "players = []\n",
    "\n",
    "for i in range(2):            # <-- run loop to create each player.\n",
    "    players.append({          # <-- adds dictionary of placeholders to 'players' list\n",
    "        \"name\": \"\",           # <-- placeholder string stores name of each player\n",
    "        \"score\": 0,           # <-- starts at 0\n",
    "        \"backpack\": []        # <-- empty list stores items in each player's backpack\n",
    "    })\n",
    "    \n",
    "    \n",
    "    players[i][\"name\"] = input(\"Enter name for player\" + str(i + 1) + \": \")\n",
    "    print(\"Enter four (4) items to put into your backpack.\")\n",
    "    for j in range(4):\n",
    "        backpack_item = input(\"Item name: \")\n",
    "        players[i][\"backpack\"].append(backpack_item)\n",
    "    # print(players[i][\"backpack\"])"
   ]
  },
  {
   "cell_type": "code",
   "execution_count": 24,
   "metadata": {},
   "outputs": [
    {
     "name": "stdout",
     "output_type": "stream",
     "text": [
      "Andrey, guess an item from the other backpack: a\n",
      "You did not guess an item from the backpack.\n",
      "Do you want to play again? Type YES or NO: NO\n",
      "André, guess an item from the other backpack: NO\n",
      "You did not guess an item from the backpack.\n",
      "Do you want to play again? Type YES or NO: NO\n",
      "Andrey score: 0\n",
      "André score: 0\n"
     ]
    }
   ],
   "source": [
    "game_on = True\n",
    "while game_on:\n",
    "    for i in range(2):\n",
    "        player_choice = input(players[i][\"name\"] +\", guess an item from the other backpack: \")\n",
    "        other_player = players[(i+1) % 2]\n",
    "        if player_choice in other_player[\"backpack\"]:\n",
    "            print(\"You guessed an item from the backpack!\")\n",
    "            players[i][\"score\"] += 1\n",
    "        else:\n",
    "            print(\"You did not guess an item from the backpack.\")\n",
    "            \n",
    "        play_again = input(\"Do you want to play again? Type YES or NO: \")\n",
    "        if (play_again == \"NO\"):\n",
    "            game_on = False\n",
    "            \n",
    "for player in players:\n",
    "    print(player[\"name\"] + \" score: \" + str(player[\"score\"]))"
   ]
  }
 ],
 "metadata": {
  "kernelspec": {
   "display_name": "Python 3",
   "language": "python",
   "name": "python3"
  },
  "language_info": {
   "codemirror_mode": {
    "name": "ipython",
    "version": 3
   },
   "file_extension": ".py",
   "mimetype": "text/x-python",
   "name": "python",
   "nbconvert_exporter": "python",
   "pygments_lexer": "ipython3",
   "version": "3.7.4"
  }
 },
 "nbformat": 4,
 "nbformat_minor": 2
}
